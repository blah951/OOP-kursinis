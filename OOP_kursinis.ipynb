{
  "nbformat": 4,
  "nbformat_minor": 0,
  "metadata": {
    "colab": {
      "provenance": [],
      "authorship_tag": "ABX9TyMWf+MQaVmrBvkxRYnOMEGu",
      "include_colab_link": true
    },
    "kernelspec": {
      "name": "python3",
      "display_name": "Python 3"
    },
    "language_info": {
      "name": "python"
    }
  },
  "cells": [
    {
      "cell_type": "markdown",
      "metadata": {
        "id": "view-in-github",
        "colab_type": "text"
      },
      "source": [
        "<a href=\"https://colab.research.google.com/github/blah951/OOP-kursinis/blob/main/OOP_kursinis.ipynb\" target=\"_parent\"><img src=\"https://colab.research.google.com/assets/colab-badge.svg\" alt=\"Open In Colab\"/></a>"
      ]
    },
    {
      "cell_type": "markdown",
      "source": [
        "Julius Pavlovas, Ef23/2, OOP kursinis darbas, Tema: Restaurant Management"
      ],
      "metadata": {
        "id": "2X95eVmuKe1S"
      }
    },
    {
      "cell_type": "code",
      "execution_count": 2,
      "metadata": {
        "id": "HLSJw3fDICms"
      },
      "outputs": [],
      "source": [
        " #failu sukurimas:\n",
        "\n",
        "import csv\n",
        " #Creating menu.csv\n",
        "menu_data = [\n",
        "    [\"Pizza\", 10.0],\n",
        "    [\"Drink\", 2.0]\n",
        "]\n",
        "\n",
        "with open(\"menu.csv\", \"w\") as file:\n",
        "    writer = csv.writer(file)\n",
        "    writer.writerows(menu_data)\n",
        "\n",
        " #Creating orders.csv (empty)\n",
        "with open(\"orders.csv\", \"w\"):\n",
        "    pass"
      ]
    },
    {
      "cell_type": "code",
      "source": [
        "import csv\n",
        "import unittest\n",
        "\n",
        "# 1. 4 OOP Pillars:\n",
        "# 1)Polymorphism\n",
        "class Food:\n",
        "    def __init__(self, name, price):\n",
        "        self.name = name\n",
        "        self.price = price\n",
        "\n",
        "    def get_description(self):\n",
        "        pass\n",
        "\n",
        "class Pizza(Food):\n",
        "    def __init__(self, name, price, toppings):\n",
        "        super().__init__(name, price)\n",
        "        self.toppings = toppings\n",
        "\n",
        "    def get_description(self):\n",
        "        return f\"{self.name} Pizza with {', '.join(self.toppings)}\"\n",
        "\n",
        "class Drink(Food):\n",
        "    def __init__(self, name, price, size):\n",
        "        super().__init__(name, price)\n",
        "        self.size = size\n",
        "\n",
        "    def get_description(self):\n",
        "        return f\"{self.size} {self.name}\"\n",
        "\n",
        "# 2)Abstraction\n",
        "from abc import ABC, abstractmethod\n",
        "\n",
        "class Database(ABC):\n",
        "    @abstractmethod\n",
        "    def add_data(self, key, value):\n",
        "        pass\n",
        "\n",
        "    @abstractmethod\n",
        "    def get_data(self, key):\n",
        "        pass\n",
        "\n",
        "# 3,4)Inheritance and Encapsulation\n",
        "# Design Patterns: 1)Singleton\n",
        "class Singleton(Database):\n",
        "    _instance = None\n",
        "\n",
        "    def __new__(cls, *args, **kwargs):\n",
        "        if not cls._instance:\n",
        "            cls._instance = super().__new__(cls, *args, **kwargs)\n",
        "        return cls._instance\n",
        "\n",
        "    def __init__(self):\n",
        "        self.data = {}\n",
        "\n",
        "    def add_data(self, key, value):\n",
        "        self.data[key] = value\n",
        "\n",
        "    def get_data(self, key):\n",
        "        return self.data.get(key)\n",
        "\n",
        "# 2. Design Patterns\n",
        "# 2)Factory Method\n",
        "class FoodFactory:\n",
        "    @staticmethod\n",
        "    def create_food(food_type, name, price, *args, **kwargs):\n",
        "        if food_type == \"Pizza\":\n",
        "            return Pizza(name, price, *args, **kwargs)\n",
        "        elif food_type == \"Drink\":\n",
        "            return Drink(name, price, *args, **kwargs)\n",
        "        else:\n",
        "            raise ValueError(\"Invalid food type\")\n",
        "\n",
        "# 3. Reading from file & writing to file\n",
        "class Restaurant:\n",
        "    def __init__(self, menu_file, order_file):\n",
        "        self.menu_file = menu_file\n",
        "        self.order_file = order_file\n",
        "        self.menu = self.load_menu()\n",
        "\n",
        "    def load_menu(self):\n",
        "        menu = {}\n",
        "        with open(self.menu_file, 'r') as file:\n",
        "            reader = csv.reader(file)\n",
        "            for row in reader:\n",
        "                menu[row[0]] = float(row[1])\n",
        "        return menu\n",
        "\n",
        "    def save_order(self, order):\n",
        "        with open(self.order_file, 'a', newline='') as file:\n",
        "            writer = csv.writer(file)\n",
        "            writer.writerow(order)\n",
        "\n",
        "# 4. Testing\n",
        "class TestDatabase(unittest.TestCase):\n",
        "    def setUp(self):\n",
        "        self.db = Singleton()\n",
        "\n",
        "    def test_singleton(self):\n",
        "        self.assertIs(self.db, Singleton(), \"Singleton instances are not the same\")\n",
        "\n",
        "    def test_add_data(self):\n",
        "        self.db.add_data(\"1\", \"Pizza\")\n",
        "        self.assertEqual(self.db.get_data(\"1\"), \"Pizza\")\n",
        "\n",
        "#naudojimas\n",
        "# Creating Restaurant instance\n",
        "restaurant = Restaurant(\"menu.csv\", \"orders.csv\")\n",
        "print(\"Menu loaded:\", restaurant.menu)\n",
        "\n",
        "# Creating food items\n",
        "pizza = FoodFactory.create_food(\"Pizza\", \"Margherita\", 10, [\"cheese\", \"tomato\"])\n",
        "drink = FoodFactory.create_food(\"Drink\", \"Coke\", 2, \"Large\")\n",
        "\n",
        "print(pizza.get_description())\n",
        "print(drink.get_description())\n",
        "\n",
        "# Saving an order\n",
        "order = [\"Margherita\", 1, 10.0]  # Item, Quantity, Total Price\n",
        "restaurant.save_order(order)\n",
        "print(\"Order saved:\", order)\n",
        "\n",
        "# Running tests\n",
        "unittest.main(argv=[''], exit=False)"
      ],
      "metadata": {
        "colab": {
          "base_uri": "https://localhost:8080/"
        },
        "id": "4DgdZwsoKmeO",
        "outputId": "19e29734-9634-499c-b3c5-f19692d70f1f"
      },
      "execution_count": 3,
      "outputs": [
        {
          "output_type": "stream",
          "name": "stderr",
          "text": [
            "..\n",
            "----------------------------------------------------------------------\n",
            "Ran 2 tests in 0.008s\n",
            "\n",
            "OK\n"
          ]
        },
        {
          "output_type": "stream",
          "name": "stdout",
          "text": [
            "Menu loaded: {'Pizza': 10.0, 'Drink': 2.0}\n",
            "Margherita Pizza with cheese, tomato\n",
            "Large Coke\n",
            "Order saved: ['Margherita', 1, 10.0]\n"
          ]
        },
        {
          "output_type": "execute_result",
          "data": {
            "text/plain": [
              "<unittest.main.TestProgram at 0x7b8062c533a0>"
            ]
          },
          "metadata": {},
          "execution_count": 3
        }
      ]
    }
  ]
}